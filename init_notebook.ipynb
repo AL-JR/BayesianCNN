{
 "cells": [
  {
   "cell_type": "markdown",
   "metadata": {},
   "source": [
    "Journal used for documenting coding process."
   ]
  },
  {
   "cell_type": "markdown",
   "metadata": {},
   "source": [
    "Essentially, I want to compare the differences in performance between a regular cnn and a bayesian cnn. Therefore I must make a standard cnn model. It will be trained on the MNIST dataset since MNIST dataset is easy to handle.\n"
   ]
  }
 ],
 "metadata": {
  "language_info": {
   "name": "python"
  }
 },
 "nbformat": 4,
 "nbformat_minor": 2
}
